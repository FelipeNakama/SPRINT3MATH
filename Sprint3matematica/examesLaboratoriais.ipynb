{
 "cells": [
  {
   "cell_type": "code",
   "execution_count": null,
   "metadata": {},
   "outputs": [],
   "source": [
    "# Calculo de Variância e Desvio Padrão\n",
    "\n",
    "import numpy as np\n",
    "\n",
    "# Dados\n",
    "exames_laboratoriais = [693740, 664093, 694678, 764581, 686988, 764437, 791213]\n",
    "\n",
    "# Calculando a variância\n",
    "variancia = np.var(exames_laboratoriais)\n",
    "\n",
    "# Calculando o desvio padrão\n",
    "desvio_padrao = np.std(exames_laboratoriais)\n",
    "\n",
    "print(\"Variância:\", variancia)\n",
    "print(\"Desvio padrão:\", desvio_padrao)"
   ]
  },
  {
   "cell_type": "code",
   "execution_count": null,
   "metadata": {},
   "outputs": [],
   "source": [
    "# Grafico de barras simples\n",
    "\n",
    "import matplotlib.pyplot as plt\n",
    "\n",
    "# Novos dados\n",
    "anos = [2016, 2017, 2018, 2019, 2020, 2021, 2022]\n",
    "exames = [693740, 664093, 694678, 764581, 686988, 764437, 791213]\n",
    "\n",
    "# Calcular a média dos dados\n",
    "media = sum(exames) / len(exames)\n",
    "\n",
    "# Criar o gráfico de barras\n",
    "plt.figure(figsize=(10, 6))\n",
    "plt.bar(anos, exames, color='g', zorder=2)  # Definindo a ordem para estar acima do grid\n",
    "\n",
    "# Adicionar os números acima das barras\n",
    "for i in range(len(anos)):\n",
    "    plt.text(anos[i], exames[i] + 5000, str(exames[i]), ha='center')\n",
    "\n",
    "# Adicionar a linha indicando a média\n",
    "plt.axhline(media, color='red', linestyle='--', label=f'Média: {int(media)}', zorder=3)\n",
    "\n",
    "# Adicionar título e rótulos dos eixos\n",
    "plt.title('Quantidade de Exames Laboratoriais por Ano')\n",
    "plt.xlabel('Ano')\n",
    "plt.ylabel('Quantidade de Exames')\n",
    "\n",
    "# Adicionar grid\n",
    "plt.grid(axis='y', linestyle='-', alpha=0.7, zorder=1)  # Definindo a ordem para estar abaixo das barras\n",
    "\n",
    "# Adicionar legenda\n",
    "plt.legend()\n",
    "\n",
    "# Exibir o gráfico\n",
    "plt.show()\n"
   ]
  },
  {
   "cell_type": "code",
   "execution_count": null,
   "metadata": {},
   "outputs": [],
   "source": [
    "# Dados com a equação da reta aproximada\n",
    "\n",
    "import matplotlib.pyplot as plt\n",
    "\n",
    "# Dados fornecidos\n",
    "anos = [2016, 2017, 2018, 2019, 2020, 2021, 2022]\n",
    "exames = [693740, 664093, 694678, 764581, 686988, 764437, 791213]\n",
    "\n",
    "# Plotando os pontos\n",
    "plt.figure(figsize=(10, 6))\n",
    "plt.plot(anos, exames, marker='o', linestyle='-', label='Dados')\n",
    "\n",
    "# Adicionando a equação da reta\n",
    "nova_m = 16245.5\n",
    "nova_b = -32057188\n",
    "nova_equacao_reta = [nova_m * x + nova_b for x in anos]\n",
    "plt.plot(anos, nova_equacao_reta, linestyle='--', color='green', label=f'y = {nova_m:.1f}x + {nova_b:,}')\n",
    "\n",
    "# Adicionando título e rótulos dos eixos\n",
    "plt.title('Número de Exames Laboratoriais Realizados por Ano')\n",
    "plt.xlabel('Ano')\n",
    "plt.ylabel('Número de Exames')\n",
    "\n",
    "# Exibindo o gráfico\n",
    "plt.grid(True)\n",
    "plt.legend()\n",
    "plt.show()\n"
   ]
  }
 ],
 "metadata": {
  "kernelspec": {
   "display_name": "Python 3",
   "language": "python",
   "name": "python3"
  },
  "language_info": {
   "codemirror_mode": {
    "name": "ipython",
    "version": 3
   },
   "file_extension": ".py",
   "mimetype": "text/x-python",
   "name": "python",
   "nbconvert_exporter": "python",
   "pygments_lexer": "ipython3",
   "version": "3.11.5"
  }
 },
 "nbformat": 4,
 "nbformat_minor": 2
}
