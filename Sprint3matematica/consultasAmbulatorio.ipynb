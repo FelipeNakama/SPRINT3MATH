{
 "cells": [
  {
   "cell_type": "code",
   "execution_count": null,
   "metadata": {},
   "outputs": [],
   "source": [
    "# Calculo de Variância e Desvio Padrão\n",
    "\n",
    "import numpy as np\n",
    "\n",
    "# Dados\n",
    "consultas = [78181, 74862, 66554, 74747, 49023, 61349, 59720]\n",
    "\n",
    "# Calculando a variância\n",
    "variancia_consultas = np.var(consultas)\n",
    "\n",
    "# Calculando o desvio padrão\n",
    "desvio_padrao_consultas = np.std(consultas)\n",
    "\n",
    "print(\"Variância das consultas:\", variancia_consultas)\n",
    "print(\"Desvio padrão das consultas:\", desvio_padrao_consultas)\n"
   ]
  },
  {
   "cell_type": "code",
   "execution_count": null,
   "metadata": {},
   "outputs": [],
   "source": [
    "# Grafico de barras simples\n",
    "\n",
    "import matplotlib.pyplot as plt\n",
    "import numpy as np\n",
    "\n",
    "# Dados\n",
    "anos = [2016, 2017, 2018, 2019, 2020, 2021, 2022]\n",
    "consultas = [78181, 74862, 66554, 74747, 49023, 61349, 59720]\n",
    "\n",
    "# Calcular a média das consultas\n",
    "media_consultas = np.mean(consultas)\n",
    "\n",
    "# Criar o gráfico de barras\n",
    "plt.figure(figsize=(10, 6))\n",
    "plt.bar(anos, consultas, color='lightblue', zorder=2)  # Definindo a ordem para estar acima do grid\n",
    "\n",
    "# Adicionar os números acima das barras\n",
    "for i in range(len(anos)):\n",
    "    plt.text(anos[i], consultas[i] + 500, str(consultas[i]), ha='center')\n",
    "\n",
    "# Adicionar linha indicativa da média\n",
    "plt.axhline(media_consultas, color='red', linestyle='--', label=f'Média: {int(media_consultas)}', zorder=3)\n",
    "\n",
    "# Adicionar título e rótulos dos eixos\n",
    "plt.title('Quantidade de Consultas Ambulatoriais por Ano')\n",
    "plt.xlabel('Ano')\n",
    "plt.ylabel('Quantidade de Consultas')\n",
    "\n",
    "# Adicionar grid\n",
    "plt.grid(axis='y', linestyle='-', alpha=0.7, zorder=1)  # Definindo a ordem para estar abaixo das barras\n",
    "\n",
    "# Adicionar legenda\n",
    "plt.legend()\n",
    "\n",
    "# Exibir o gráfico\n",
    "plt.show()\n",
    "\n"
   ]
  },
  {
   "cell_type": "code",
   "execution_count": null,
   "metadata": {},
   "outputs": [],
   "source": [
    "# Dados com a equação da reta aproximada\n",
    "\n",
    "import matplotlib.pyplot as plt\n",
    "\n",
    "# Dados fornecidos\n",
    "anos = [2016, 2017, 2018, 2019, 2020, 2021, 2022]\n",
    "consultas = [78181, 74862, 66554, 74747, 49023, 61349, 59720]\n",
    "\n",
    "# Plotando os pontos\n",
    "plt.figure(figsize=(10, 6))\n",
    "plt.plot(anos, consultas, marker='o', linestyle='-', label='Dados')\n",
    "\n",
    "# Adicionando a equação da reta\n",
    "m = -3076.8333\n",
    "b = 6281077\n",
    "equacao_reta = [m*x + b for x in anos]\n",
    "plt.plot(anos, equacao_reta, linestyle='--', color='red', label='y = -3076.8333x + 6281077')\n",
    "\n",
    "# Adicionando título e rótulos dos eixos\n",
    "plt.title('Número de Consultas por Ano')\n",
    "plt.xlabel('Ano')\n",
    "plt.ylabel('Número de Consultas')\n",
    "\n",
    "# Exibindo o gráfico\n",
    "plt.grid(True)\n",
    "plt.legend()\n",
    "plt.show()"
   ]
  }
 ],
 "metadata": {
  "kernelspec": {
   "display_name": "Python 3",
   "language": "python",
   "name": "python3"
  },
  "language_info": {
   "codemirror_mode": {
    "name": "ipython",
    "version": 3
   },
   "file_extension": ".py",
   "mimetype": "text/x-python",
   "name": "python",
   "nbconvert_exporter": "python",
   "pygments_lexer": "ipython3",
   "version": "3.11.5"
  }
 },
 "nbformat": 4,
 "nbformat_minor": 2
}
